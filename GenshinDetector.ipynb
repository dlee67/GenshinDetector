{
 "cells": [
  {
   "cell_type": "code",
   "execution_count": 4,
   "id": "dee90304-3af8-4b03-83dd-6e81cfb86cd2",
   "metadata": {},
   "outputs": [],
   "source": [
    "import os\n",
    "import torch\n",
    "import torch.nn as nn\n",
    "import torch.optim as optim\n",
    "from torch.utils.data import DataLoader\n",
    "from torchvision import datasets, transforms\n",
    "from PIL import Image\n",
    "\n",
    "device = torch.device(\"cuda\" if torch.cuda.is_available() else \"cpu\")\n",
    "\n",
    "data_dir = 'dataset'\n",
    "\n",
    "transform = transforms.Compose([\n",
    "    transforms.Resize((128, 128)),\n",
    "    transforms.ToTensor(),\n",
    "    transforms.Normalize(mean=[0.5, 0.5, 0.5], std=[0.5, 0.5, 0.5])  \n",
    "])\n",
    "\n",
    "train_dataset = datasets.ImageFolder(root=os.path.join(data_dir), transform=transform)\n",
    "train_loader = DataLoader(train_dataset, batch_size=32, shuffle=True, num_workers=4)"
   ]
  },
  {
   "cell_type": "code",
   "execution_count": 5,
   "id": "e5d7331e-2322-4bdc-b91c-e29b8ea03615",
   "metadata": {},
   "outputs": [],
   "source": [
    "class SimpleCNN(nn.Module):\n",
    "    def __init__(self, num_classes):\n",
    "        super(SimpleCNN, self).__init__()        \n",
    "        self.conv1 = nn.Conv2d(in_channels=3, out_channels=32, kernel_size=3, stride=1, padding=1)          \n",
    "        self.pool = nn.MaxPool2d(kernel_size=2, stride=2)  \n",
    "        self.conv2 = nn.Conv2d(in_channels=32, out_channels=64, kernel_size=3, stride=1, padding=1)  \n",
    "        self.pool = nn.MaxPool2d(kernel_size=2, stride=2)  \n",
    "        self.fc1 = nn.Linear(in_features=64 * 32 * 32, out_features=512)  \n",
    "        self.fc2 = nn.Linear(in_features=512, out_features=num_classes)  \n",
    "\n",
    "    def forward(self, x):\n",
    "        x = self.pool(torch.relu(self.conv1(x)))  \n",
    "        x = self.pool(torch.relu(self.conv2(x)))  \n",
    "        x = x.view(-1, 64 * 32 * 32)\n",
    "        x = torch.relu(self.fc1(x))  \n",
    "        x = self.fc2(x)  \n",
    "        return x\n",
    "        \n",
    "num_classes = len(train_dataset.classes)\n",
    "model = SimpleCNN(num_classes).to(device)\n",
    "\n",
    "criterion = nn.CrossEntropyLoss()\n",
    "\n",
    "optimizer = optim.Adam(model.parameters(), lr=0.001)\n",
    "\n",
    "def train(model, loader, criterion, optimizer, device):\n",
    "    model.train()\n",
    "    running_loss = 0.0\n",
    "    correct = 0\n",
    "    total = 0\n",
    "\n",
    "    for images, labels in loader:\n",
    "        images, labels = images.to(device), labels.to(device)\n",
    "        outputs = model(images)\n",
    "        loss = criterion(outputs, labels)\n",
    "\n",
    "        optimizer.zero_grad()\n",
    "        loss.backward()\n",
    "        optimizer.step()\n",
    "\n",
    "        running_loss += loss.item()\n",
    "        _, predicted = torch.max(outputs, 1)\n",
    "        total += labels.size(0)\n",
    "        correct += (predicted == labels).sum().item()\n",
    "\n",
    "    epoch_loss = running_loss / len(loader)\n",
    "    epoch_acc = 100 * correct / total\n",
    "    print(f'Training Loss: {epoch_loss:.4f}, Training Accuracy: {epoch_acc:.2f}%')"
   ]
  },
  {
   "cell_type": "code",
   "execution_count": 8,
   "id": "bcde77e5-220f-4786-a84f-b74c78c57800",
   "metadata": {},
   "outputs": [],
   "source": [
    "def predict_image(image_path, model, transform, device):\n",
    "    image = Image.open(image_path)\n",
    "    image = transform(image).unsqueeze(0)\n",
    "    image = image.to(device)\n",
    "    model.eval()\n",
    "    \n",
    "    with torch.no_grad():\n",
    "        outputs = model(image)\n",
    "        _, predicted_class = torch.max(outputs, 1)\n",
    "    class_label = train_dataset.classes[predicted_class.item()]\n",
    "    \n",
    "    return class_label\n"
   ]
  },
  {
   "cell_type": "code",
   "execution_count": 9,
   "id": "0af89b75-cf20-40fc-a254-eeb62638e0f5",
   "metadata": {},
   "outputs": [
    {
     "name": "stdout",
     "output_type": "stream",
     "text": [
      "Epoch 1/10\n",
      "Training Loss: 0.0164, Training Accuracy: 100.00%\n",
      "Epoch 2/10\n",
      "Training Loss: 0.0146, Training Accuracy: 99.80%\n",
      "Epoch 3/10\n",
      "Training Loss: 0.0096, Training Accuracy: 100.00%\n",
      "Epoch 4/10\n",
      "Training Loss: 0.0049, Training Accuracy: 100.00%\n",
      "Epoch 5/10\n",
      "Training Loss: 0.0028, Training Accuracy: 100.00%\n",
      "Epoch 6/10\n",
      "Training Loss: 0.0022, Training Accuracy: 100.00%\n",
      "Epoch 7/10\n",
      "Training Loss: 0.0019, Training Accuracy: 100.00%\n",
      "Epoch 8/10\n",
      "Training Loss: 0.0016, Training Accuracy: 100.00%\n",
      "Epoch 9/10\n",
      "Training Loss: 0.0013, Training Accuracy: 100.00%\n",
      "Epoch 10/10\n",
      "Training Loss: 0.0012, Training Accuracy: 100.00%\n",
      "Training complete and model saved.\n"
     ]
    }
   ],
   "source": [
    "num_epochs = 10\n",
    "for epoch in range(num_epochs):\n",
    "    print(f'Epoch {epoch+1}/{num_epochs}')\n",
    "    train(model, train_loader, criterion, optimizer, device)\n",
    "\n",
    "torch.save(model.state_dict(), 'genshin_detector_cnn_model.pth')\n",
    "\n",
    "print(\"Training complete and model saved.\")"
   ]
  },
  {
   "cell_type": "code",
   "execution_count": 11,
   "id": "5659557e-5d94-4913-9a2f-423ee8793255",
   "metadata": {},
   "outputs": [
    {
     "name": "stdout",
     "output_type": "stream",
     "text": [
      "The predicted class for the image is: Hu Tao\n",
      "The predicted class for the image is: Kokomi\n",
      "The predicted class for the image is: Hu Tao\n",
      "The predicted class for the image is: Kokomi\n"
     ]
    }
   ],
   "source": [
    "image_path = 'Hu_Tao_Test.jpg'  \n",
    "predicted_class = predict_image(image_path, model, transform, device)\n",
    "print(f'The predicted class for the image is: {predicted_class}')\n",
    "\n",
    "image_path = 'Kokomi_Test.jpg'  \n",
    "predicted_class = predict_image(image_path, model, transform, device)\n",
    "print(f'The predicted class for the image is: {predicted_class}')\n",
    "\n",
    "# Interesting how it thinks Ryu (red, black, and shades of brown) is Hu Tao. \n",
    "image_path = 'Ryu_Test.jpg'\n",
    "predicted_class = predict_image(image_path, model, transform, device)\n",
    "print(f'The predicted class for the image is: {predicted_class}')\n",
    "\n",
    "# And X is Kokomi (blue, Da ba dee da ba die)\n",
    "image_path = 'X_Test.jpg'\n",
    "predicted_class = predict_image(image_path, model, transform, device)\n",
    "print(f'The predicted class for the image is: {predicted_class}')"
   ]
  },
  {
   "cell_type": "code",
   "execution_count": null,
   "id": "f3fca4ac-ff60-40ee-9152-400350005c2d",
   "metadata": {},
   "outputs": [],
   "source": []
  }
 ],
 "metadata": {
  "kernelspec": {
   "display_name": "Python 3 (ipykernel)",
   "language": "python",
   "name": "python3"
  },
  "language_info": {
   "codemirror_mode": {
    "name": "ipython",
    "version": 3
   },
   "file_extension": ".py",
   "mimetype": "text/x-python",
   "name": "python",
   "nbconvert_exporter": "python",
   "pygments_lexer": "ipython3",
   "version": "3.10.12"
  }
 },
 "nbformat": 4,
 "nbformat_minor": 5
}
